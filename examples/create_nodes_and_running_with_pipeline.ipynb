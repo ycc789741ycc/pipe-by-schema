{
 "cells": [
  {
   "cell_type": "markdown",
   "metadata": {},
   "source": [
    "# Implement the node class\n",
    "* Define the data type of `payload` which is the pre-defined input parameter of `run` method.\n",
    "* Define the output type of `run` method."
   ]
  },
  {
   "cell_type": "code",
   "execution_count": 1,
   "metadata": {},
   "outputs": [],
   "source": [
    "from dataclasses import dataclass\n",
    "\n",
    "from pipesche import BaseNode\n",
    "\n",
    "\n",
    "@dataclass\n",
    "class AddPayload:\n",
    "    x: int\n",
    "    y: int\n",
    "\n",
    "\n",
    "class Add(BaseNode[AddPayload, int]):\n",
    "    def run(self, payload: AddPayload) -> int:\n",
    "        result = payload.x + payload.y\n",
    "        print(f\"{payload.x} + {payload.y} = {result}\")\n",
    "        return result\n",
    "\n",
    "\n",
    "class PrintSomeThing(BaseNode[None, None]):\n",
    "    def run(self, payload: None) -> None:\n",
    "        print(\"Some thing...\")"
   ]
  },
  {
   "cell_type": "markdown",
   "metadata": {},
   "source": [
    "# Construct the pipeline\n",
    "* Add the node to pipeline.\n",
    "* Link the nodes in the pipeline and define the input source."
   ]
  },
  {
   "cell_type": "code",
   "execution_count": 6,
   "metadata": {},
   "outputs": [
    {
     "name": "stdout",
     "output_type": "stream",
     "text": [
      "1 + 2 = 3\n",
      "3 + 4 = 7\n",
      "Some thing...\n"
     ]
    }
   ],
   "source": [
    "from pipesche import Pipeline\n",
    "\n",
    "\n",
    "node_1 = Add(\"node_1\")\n",
    "node_2 = PrintSomeThing(\"node_2\")\n",
    "node_3 = Add(\"node_3\")\n",
    "\n",
    "pipeline = Pipeline()\n",
    "pipeline.add_node(node_1, input_key=\"input_1\")\n",
    "pipeline.add_node(node_2)\n",
    "pipeline.add_node(node_3, input_key=\"input_2\")\n",
    "pipeline.connect(node_1.name, node_3.name)\n",
    "pipeline.connect(node_3.name, node_2.name)\n",
    "\n",
    "pipeline.run({\"input_1\": AddPayload(1, 2), \"input_2\": AddPayload(3, 4)})\n",
    "\n",
    "# Output:\n",
    "# 1 + 2 = 3\n",
    "# 3 + 4 = 7\n",
    "# Some thing..."
   ]
  },
  {
   "cell_type": "markdown",
   "metadata": {},
   "source": [
    "# Get result of the node"
   ]
  },
  {
   "cell_type": "code",
   "execution_count": 7,
   "metadata": {},
   "outputs": [
    {
     "data": {
      "text/plain": [
       "7"
      ]
     },
     "execution_count": 7,
     "metadata": {},
     "output_type": "execute_result"
    }
   ],
   "source": [
    "pipeline.get_data(key=node_3.name)\n",
    "\n",
    "# Output:\n",
    "# 7"
   ]
  },
  {
   "cell_type": "markdown",
   "metadata": {},
   "source": [
    "# What if our node's input comes from other nodes outputs?\n",
    "* Set the input key of the node to the name of output key of other node. (Default output key of the node is its own name)"
   ]
  },
  {
   "cell_type": "code",
   "execution_count": 3,
   "metadata": {},
   "outputs": [
    {
     "name": "stdout",
     "output_type": "stream",
     "text": [
      "2^2 = 4\n",
      "4^2 = 16\n",
      "3^2 = 9\n"
     ]
    }
   ],
   "source": [
    "class Square(BaseNode[int, int]):\n",
    "    def run(self, payload: int) -> int:\n",
    "        result = payload ** 2\n",
    "        print(f\"{payload}^2 = {result}\")\n",
    "        return result\n",
    "\n",
    "node_1 = Square(\"node_1\")\n",
    "node_2 = Square(\"node_2\")\n",
    "node_3 = Square(\"node_3\")\n",
    "\n",
    "pipeline = Pipeline()\n",
    "pipeline.add_node(node_1, input_key=\"input_1\")\n",
    "pipeline.add_node(node_2, input_key=node_1.name)\n",
    "pipeline.add_node(node_3, input_key=\"input_2\")\n",
    "pipeline.connect(node_1.name, node_2.name)\n",
    "pipeline.connect(node_2.name, node_3.name)\n",
    "\n",
    "pipeline.run({\"input_1\": 2, \"input_2\": 3})\n",
    "\n",
    "# Output:\n",
    "# 2^2 = 4\n",
    "# 4^2 = 16\n",
    "# 3^2 = 9"
   ]
  },
  {
   "cell_type": "markdown",
   "metadata": {},
   "source": [
    "# What if our node's input is combined from multiple nodes outputs or source?\n",
    "* Define the function to merge the inputs from multiple source."
   ]
  },
  {
   "cell_type": "code",
   "execution_count": 5,
   "metadata": {},
   "outputs": [
    {
     "name": "stdout",
     "output_type": "stream",
     "text": [
      "1 + 2 = 3\n",
      "3^2 = 9\n",
      "3 + 9 = 12\n"
     ]
    }
   ],
   "source": [
    "node_1 = Add(\"node_1\")\n",
    "node_2 = Add(\"node_2\")\n",
    "node_3 = Square(\"node_3\")\n",
    "\n",
    "pipeline = Pipeline()\n",
    "pipeline.add_node(node_1, input_key=\"input_1\")\n",
    "pipeline.add_node(node_2, input_key=\"merge.node_1.node_3\")\n",
    "pipeline.add_node(node_3, input_key=\"input_2\")\n",
    "pipeline.connect(node_1.name, node_2.name)\n",
    "pipeline.connect(node_3.name, node_2.name)\n",
    "\n",
    "def merge_func(x: int, y: int) -> AddPayload:\n",
    "    return AddPayload(x, y)\n",
    "\n",
    "pipeline.merge_data(\n",
    "    keys=[\"node_1\", \"node_3\"],\n",
    "    new_key=\"merge.node_1.node_3\",\n",
    "    merge_function=merge_func\n",
    ")\n",
    "\n",
    "pipeline.run({\"input_1\": AddPayload(1, 2), \"input_2\": 3})\n",
    "\n",
    "# Output:\n",
    "# 1 + 2 = 3\n",
    "# 3^2 = 9\n",
    "# 3 + 9 = 12"
   ]
  }
 ],
 "metadata": {
  "kernelspec": {
   "display_name": "pipe-by-schema-iaQ4zvsY-py3.9",
   "language": "python",
   "name": "python3"
  },
  "language_info": {
   "codemirror_mode": {
    "name": "ipython",
    "version": 3
   },
   "file_extension": ".py",
   "mimetype": "text/x-python",
   "name": "python",
   "nbconvert_exporter": "python",
   "pygments_lexer": "ipython3",
   "version": "3.10.13"
  }
 },
 "nbformat": 4,
 "nbformat_minor": 2
}
